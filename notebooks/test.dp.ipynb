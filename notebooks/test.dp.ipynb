{
 "cells": [
  {
   "cell_type": "code",
   "execution_count": 3,
   "metadata": {},
   "outputs": [
    {
     "name": "stdout",
     "output_type": "stream",
     "text": [
      "0 0 0 0 0 0 0\n",
      "0 1 0 0 0 0 0\n",
      "0 0 1 0 0 0 0\n",
      "0 0 0 0 1 0 0\n",
      "0 0 0 0 0 1 0\n",
      "0 0 0 0 0 0 1\n"
     ]
    }
   ],
   "source": [
    "def parse_cigar(cigar_string):\n",
    "    \"\"\"Parse a CIGAR string into operation-count pairs.\"\"\"\n",
    "    operations = []\n",
    "    current_count = \"\"\n",
    "    \n",
    "    for char in cigar_string:\n",
    "        if char.isdigit():\n",
    "            current_count += char\n",
    "        else:\n",
    "            operations.append((char, int(current_count)))\n",
    "            current_count = \"\"\n",
    "    \n",
    "    return operations\n",
    "\n",
    "def get_sequence_lengths(cigar_string):\n",
    "    \"\"\"\n",
    "    Calculate original and resulting sequence lengths from CIGAR string.\n",
    "    Original length: sum of M operations\n",
    "    Result length: sum of M and N operations\n",
    "    \"\"\"\n",
    "    operations = parse_cigar(cigar_string)\n",
    "    \n",
    "    original_length = 0\n",
    "    result_length = 0\n",
    "    \n",
    "    for op, count in operations:\n",
    "        if op == 'M':\n",
    "            original_length += count\n",
    "            result_length += count\n",
    "        elif op == 'N':\n",
    "            result_length += count\n",
    "            \n",
    "    return original_length, result_length\n",
    "\n",
    "def create_alignment_matrix(cigar_string):\n",
    "    \"\"\"\n",
    "    Create a dynamic programming alignment matrix from a CIGAR string.\n",
    "    Only handles M (match/mismatch) and N (skip) operations.\n",
    "    \n",
    "    Args:\n",
    "        cigar_string: CIGAR string with only M and N operations\n",
    "        \n",
    "    Returns:\n",
    "        2D list representing the alignment matrix where:\n",
    "        1 indicates aligned positions (M)\n",
    "        0 indicates unaligned positions (N)\n",
    "    \"\"\"\n",
    "    operations = parse_cigar(cigar_string)\n",
    "    original_length, result_length = get_sequence_lengths(cigar_string)\n",
    "    \n",
    "    # Initialize matrix with zeros\n",
    "    # Add 1 to dimensions for 0-based alignment position\n",
    "    matrix = [[0 for _ in range(result_length + 1)] for _ in range(original_length + 1)]\n",
    "    \n",
    "    # Current positions in sequences\n",
    "    orig_pos = 0  # position in original sequence\n",
    "    res_pos = 0   # position in result sequence\n",
    "    \n",
    "    # Process each operation in the CIGAR string\n",
    "    for op, count in operations:\n",
    "        if op == 'M':\n",
    "            # For matches/mismatches, mark diagonal positions\n",
    "            for i in range(count):\n",
    "                orig_pos += 1\n",
    "                res_pos += 1\n",
    "                matrix[orig_pos][res_pos] = 1\n",
    "        elif op == 'N':\n",
    "            # For skips, only advance in the result sequence\n",
    "            res_pos += count\n",
    "        else:\n",
    "            raise ValueError(f\"Unsupported operation: {op}\")\n",
    "    \n",
    "    return matrix\n",
    "\n",
    "def print_matrix(matrix):\n",
    "    \"\"\"Pretty print the alignment matrix.\"\"\"\n",
    "    for row in matrix:\n",
    "        print(' '.join(str(x) for x in row))\n",
    "        \n",
    "cigar = \"2M1N3M\"  # Example CIGAR string\n",
    "matrix = create_alignment_matrix(cigar)\n",
    "print_matrix(matrix)"
   ]
  },
  {
   "cell_type": "code",
   "execution_count": 5,
   "metadata": {},
   "outputs": [
    {
     "name": "stdout",
     "output_type": "stream",
     "text": [
      "0 0 0 0 0 0 0 0 0 0\n",
      "0 1 0 0 0 0 0 0 0 0\n",
      "0 0 1 0 0 0 0 0 0 0\n",
      "0 0 0 0 1 0 0 0 0 0\n",
      "0 0 0 0 0 1 0 0 0 0\n",
      "0 0 0 0 0 0 1 0 0 0\n",
      "0 0 0 0 0 0 0 0 1 0\n",
      "0 0 0 0 0 0 0 0 0 1\n"
     ]
    }
   ],
   "source": [
    "cigar = \"2M1N3M1N2M\"\n",
    "introns = [4]\n",
    "\n",
    "matrix = create_alignment_matrix(cigar)\n",
    "print_matrix(matrix)"
   ]
  },
  {
   "cell_type": "code",
   "execution_count": 1,
   "metadata": {},
   "outputs": [
    {
     "name": "stdout",
     "output_type": "stream",
     "text": [
      "Original CIGAR: 4M2N3M1N2M\n",
      "New CIGAR: 5M2N4M\n"
     ]
    }
   ],
   "source": [
    "def parse_cigar(cigar_string):\n",
    "    \"\"\"Parse a CIGAR string into operation-count pairs.\"\"\"\n",
    "    operations = []\n",
    "    current_count = \"\"\n",
    "    \n",
    "    for char in cigar_string:\n",
    "        if char.isdigit():\n",
    "            current_count += char\n",
    "        else:\n",
    "            operations.append((char, int(current_count)))\n",
    "            current_count = \"\"\n",
    "    \n",
    "    return operations\n",
    "\n",
    "def realign_cigar(cigar_string, ref_introns):\n",
    "    \"\"\"\n",
    "    Realign a CIGAR string to match reference intron positions.\n",
    "    \n",
    "    Args:\n",
    "        cigar_string: Original CIGAR string (M and N operations only)\n",
    "        ref_introns: List of reference intron positions (1-based)\n",
    "        \n",
    "    Returns:\n",
    "        New CIGAR string with introns at reference positions\n",
    "    \"\"\"\n",
    "    # Parse original CIGAR\n",
    "    operations = parse_cigar(cigar_string)\n",
    "    \n",
    "    # Calculate sequence lengths\n",
    "    total_matches = sum(count for op, count in operations if op == 'M')\n",
    "    intron_lengths = [count for op, count in operations if op == 'N']\n",
    "    \n",
    "    # Validate reference intron positions\n",
    "    for pos in ref_introns:\n",
    "        if pos < 1 or pos >= total_matches:\n",
    "            raise ValueError(f\"Invalid intron position {pos}. Must be between 1 and {total_matches-1}\")\n",
    "    \n",
    "    # Sort reference intron positions\n",
    "    ref_introns_sorted = sorted(ref_introns)\n",
    "    \n",
    "    # Create new CIGAR string\n",
    "    new_cigar = []\n",
    "    \n",
    "    # Initialize variables\n",
    "    current_pos = 0\n",
    "    intron_index = 0\n",
    "    \n",
    "    for ref_pos in ref_introns_sorted:\n",
    "        # Add matches before the intron\n",
    "        matches_before = ref_pos - current_pos\n",
    "        if matches_before > 0:\n",
    "            new_cigar.append(f\"{matches_before}M\")\n",
    "            current_pos += matches_before\n",
    "        \n",
    "        # Add the intron\n",
    "        if intron_index < len(intron_lengths):\n",
    "            new_cigar.append(f\"{intron_lengths[intron_index]}N\")\n",
    "            intron_index += 1\n",
    "    \n",
    "    # Add remaining matches after the last intron\n",
    "    remaining_matches = total_matches - current_pos\n",
    "    if remaining_matches > 0:\n",
    "        new_cigar.append(f\"{remaining_matches}M\")\n",
    "    \n",
    "    return \"\".join(new_cigar)\n",
    "\n",
    "# Test cases\n",
    "cigar = \"4M2N3M1N2M\"\n",
    "ref_introns = [5]\n",
    "\n",
    "new_cigar = realign_cigar(cigar, ref_introns)\n",
    "print(f\"Original CIGAR: {cigar}\")\n",
    "print(f\"New CIGAR: {new_cigar}\")"
   ]
  },
  {
   "cell_type": "code",
   "execution_count": 54,
   "metadata": {},
   "outputs": [
    {
     "name": "stdout",
     "output_type": "stream",
     "text": [
      "0 0 0 0 0 0 0 0 0 0 0 0 0\n",
      "0 1 0 0 0 0 0 0 0 0 0 0 0\n",
      "0 0 1 0 0 0 0 0 0 0 0 0 0\n",
      "0 0 0 1 0 0 0 0 0 0 0 0 0\n",
      "0 0 0 0 1 0 0 0 0 0 0 0 0\n",
      "0 0 0 0 0 0 0 1 0 0 0 0 0\n",
      "0 0 0 0 0 0 0 0 1 0 0 0 0\n",
      "0 0 0 0 0 0 0 0 0 1 0 0 0\n",
      "0 0 0 0 0 0 0 0 0 0 0 1 0\n",
      "0 0 0 0 0 0 0 0 0 0 0 0 1\n"
     ]
    }
   ],
   "source": [
    "matrix = create_alignment_matrix(cigar)\n",
    "print_matrix(matrix)"
   ]
  },
  {
   "cell_type": "code",
   "execution_count": 56,
   "metadata": {},
   "outputs": [
    {
     "name": "stdout",
     "output_type": "stream",
     "text": [
      "0 0 0 0 0 0 0 0 0 0\n",
      "0 1 0 0 0 0 0 0 0 0\n",
      "0 0 1 0 0 0 0 0 0 0\n",
      "0 0 0 1 0 0 0 0 0 0\n",
      "0 0 0 0 1 0 0 0 0 0\n",
      "0 0 0 0 0 1 0 0 0 0\n",
      "0 0 0 0 0 0 1 0 0 0\n",
      "0 0 0 0 0 0 0 1 0 0\n",
      "0 0 0 0 0 0 0 0 1 0\n",
      "0 0 0 0 0 0 0 0 0 1\n"
     ]
    }
   ],
   "source": [
    "new_matrix = create_alignment_matrix(new_cigar)\n",
    "print_matrix(new_matrix)"
   ]
  },
  {
   "cell_type": "code",
   "execution_count": null,
   "metadata": {},
   "outputs": [],
   "source": [
    "# what if we evaluate each intron separately? Introducing one intron at a time, superimposing two matrices and moving on to the next intron"
   ]
  }
 ],
 "metadata": {
  "kernelspec": {
   "display_name": "hivAtlas",
   "language": "python",
   "name": "python3"
  },
  "language_info": {
   "codemirror_mode": {
    "name": "ipython",
    "version": 3
   },
   "file_extension": ".py",
   "mimetype": "text/x-python",
   "name": "python",
   "nbconvert_exporter": "python",
   "pygments_lexer": "ipython3",
   "version": "3.11.6"
  }
 },
 "nbformat": 4,
 "nbformat_minor": 2
}
